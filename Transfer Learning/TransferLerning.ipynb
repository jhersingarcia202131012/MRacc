{
 "cells": [
  {
   "cell_type": "code",
   "id": "initial_id",
   "metadata": {
    "collapsed": true,
    "ExecuteTime": {
     "end_time": "2024-11-04T00:48:07.558978Z",
     "start_time": "2024-11-04T00:48:07.231667Z"
    }
   },
   "source": [
    "from SuperResolution import SuperResolutionModel\n",
    "model = SuperResolutionModel.load_from_checkpoint(\n",
    "    r'C:\\Users\\garci\\PycharmProjects\\FastTakito\\logs\\Model1_UNET2017_Basico\\UNET1_BZ_32_LR_2e-4_Deco4\\lightning_logs\\version_0\\checkpoints\\epoch=21-step=23870.ckpt'\n",
    ")"
   ],
   "outputs": [],
   "execution_count": 14
  },
  {
   "metadata": {
    "ExecuteTime": {
     "end_time": "2024-11-04T00:48:09.876309Z",
     "start_time": "2024-11-04T00:48:09.853360Z"
    }
   },
   "cell_type": "code",
   "source": [
    "from torchinfo import summary\n",
    "summary(model = model,\n",
    "        input_size = (8,1,320,320),\n",
    "        col_names = [\"input_size\", \"output_size\", \"num_params\", \"trainable\"],\n",
    "        col_width = 20,\n",
    "        row_settings = [\"var_names\"])"
   ],
   "id": "5877e5be30789b1d",
   "outputs": [
    {
     "data": {
      "text/plain": [
       "=============================================================================================================================\n",
       "Layer (type (var_name))                       Input Shape          Output Shape         Param #              Trainable\n",
       "=============================================================================================================================\n",
       "SuperResolutionModel (SuperResolutionModel)   [8, 1, 320, 320]     [8, 1, 320, 320]     --                   True\n",
       "├─UNet (model)                                [8, 1, 320, 320]     [8, 1, 320, 320]     --                   True\n",
       "│    └─Sequential (e1)                        [8, 1, 320, 320]     [8, 64, 320, 320]    --                   True\n",
       "│    │    └─ConvBlock (0)                     [8, 1, 320, 320]     [8, 64, 320, 320]    768                  True\n",
       "│    │    └─ConvBlock (1)                     [8, 64, 320, 320]    [8, 64, 320, 320]    37,056               True\n",
       "│    └─MaxPool2d (maxpool1)                   [8, 64, 320, 320]    [8, 64, 160, 160]    --                   --\n",
       "│    └─Sequential (e2)                        [8, 64, 160, 160]    [8, 128, 160, 160]   --                   True\n",
       "│    │    └─ConvBlock (0)                     [8, 64, 160, 160]    [8, 128, 160, 160]   74,112               True\n",
       "│    │    └─ConvBlock (1)                     [8, 128, 160, 160]   [8, 128, 160, 160]   147,840              True\n",
       "│    └─MaxPool2d (maxpool2)                   [8, 128, 160, 160]   [8, 128, 80, 80]     --                   --\n",
       "│    └─Sequential (e3)                        [8, 128, 80, 80]     [8, 256, 80, 80]     --                   True\n",
       "│    │    └─ConvBlock (0)                     [8, 128, 80, 80]     [8, 256, 80, 80]     295,680              True\n",
       "│    │    └─ConvBlock (1)                     [8, 256, 80, 80]     [8, 256, 80, 80]     590,592              True\n",
       "│    └─MaxPool2d (maxpool3)                   [8, 256, 80, 80]     [8, 256, 40, 40]     --                   --\n",
       "│    └─Sequential (e4)                        [8, 256, 40, 40]     [8, 512, 40, 40]     --                   True\n",
       "│    │    └─ConvBlock (0)                     [8, 256, 40, 40]     [8, 512, 40, 40]     1,181,184            True\n",
       "│    │    └─ConvBlock (1)                     [8, 512, 40, 40]     [8, 512, 40, 40]     2,360,832            True\n",
       "│    └─MaxPool2d (maxpool4)                   [8, 512, 40, 40]     [8, 512, 20, 20]     --                   --\n",
       "│    └─DeconvBlock (d1)                       [8, 512, 20, 20]     [8, 512, 40, 40]     --                   True\n",
       "│    │    └─ConvTranspose2d (deconv)          [8, 512, 20, 20]     [8, 512, 40, 40]     1,049,088            True\n",
       "│    └─Sequential (c1)                        [8, 1024, 40, 40]    [8, 512, 40, 40]     --                   True\n",
       "│    │    └─ConvBlock (0)                     [8, 1024, 40, 40]    [8, 512, 40, 40]     4,720,128            True\n",
       "│    │    └─ConvBlock (1)                     [8, 512, 40, 40]     [8, 512, 40, 40]     2,360,832            True\n",
       "│    └─DeconvBlock (d2)                       [8, 512, 40, 40]     [8, 256, 80, 80]     --                   True\n",
       "│    │    └─ConvTranspose2d (deconv)          [8, 512, 40, 40]     [8, 256, 80, 80]     524,544              True\n",
       "│    └─Sequential (c2)                        [8, 512, 80, 80]     [8, 256, 80, 80]     --                   True\n",
       "│    │    └─ConvBlock (0)                     [8, 512, 80, 80]     [8, 256, 80, 80]     1,180,416            True\n",
       "│    │    └─ConvBlock (1)                     [8, 256, 80, 80]     [8, 256, 80, 80]     590,592              True\n",
       "│    └─DeconvBlock (d3)                       [8, 256, 80, 80]     [8, 128, 160, 160]   --                   True\n",
       "│    │    └─ConvTranspose2d (deconv)          [8, 256, 80, 80]     [8, 128, 160, 160]   131,200              True\n",
       "│    └─Sequential (c3)                        [8, 256, 160, 160]   [8, 128, 160, 160]   --                   True\n",
       "│    │    └─ConvBlock (0)                     [8, 256, 160, 160]   [8, 128, 160, 160]   295,296              True\n",
       "│    │    └─ConvBlock (1)                     [8, 128, 160, 160]   [8, 128, 160, 160]   147,840              True\n",
       "│    └─DeconvBlock (d4)                       [8, 128, 160, 160]   [8, 64, 320, 320]    --                   True\n",
       "│    │    └─ConvTranspose2d (deconv)          [8, 128, 160, 160]   [8, 64, 320, 320]    32,832               True\n",
       "│    └─Sequential (c4)                        [8, 128, 320, 320]   [8, 64, 320, 320]    --                   True\n",
       "│    │    └─ConvBlock (0)                     [8, 128, 320, 320]   [8, 64, 320, 320]    73,920               True\n",
       "│    │    └─ConvBlock (1)                     [8, 64, 320, 320]    [8, 64, 320, 320]    37,056               True\n",
       "│    └─Conv2d (output)                        [8, 64, 320, 320]    [8, 1, 320, 320]     65                   True\n",
       "=============================================================================================================================\n",
       "Total params: 15,831,873\n",
       "Trainable params: 15,831,873\n",
       "Non-trainable params: 0\n",
       "Total mult-adds (Units.GIGABYTES): 623.45\n",
       "=============================================================================================================================\n",
       "Input size (MB): 3.28\n",
       "Forward/backward pass size (MB): 7084.44\n",
       "Params size (MB): 63.33\n",
       "Estimated Total Size (MB): 7151.05\n",
       "============================================================================================================================="
      ]
     },
     "execution_count": 15,
     "metadata": {},
     "output_type": "execute_result"
    }
   ],
   "execution_count": 15
  },
  {
   "metadata": {},
   "cell_type": "code",
   "outputs": [],
   "execution_count": null,
   "source": "",
   "id": "1125bbc16ffc8a27"
  },
  {
   "metadata": {
    "ExecuteTime": {
     "end_time": "2024-11-04T00:28:06.542235Z",
     "start_time": "2024-11-04T00:28:06.539236Z"
    }
   },
   "cell_type": "code",
   "source": [
    "# Access and freeze all parameters in e1 block\n",
    "for param in model.model.e1.parameters():\n",
    "    param.requires_grad = False"
   ],
   "id": "6fa792983b5d5e4a",
   "outputs": [],
   "execution_count": 12
  },
  {
   "metadata": {
    "ExecuteTime": {
     "end_time": "2024-11-04T00:28:14.581226Z",
     "start_time": "2024-11-04T00:28:14.564786Z"
    }
   },
   "cell_type": "code",
   "source": [
    "from torchinfo import summary\n",
    "summary(model = model,\n",
    "        input_size = (8,1,320,320),\n",
    "        col_names = [\"input_size\", \"output_size\", \"num_params\", \"trainable\"],\n",
    "        col_width = 20,\n",
    "        row_settings = [\"var_names\"])"
   ],
   "id": "ea2c5689a4324f80",
   "outputs": [
    {
     "data": {
      "text/plain": [
       "=============================================================================================================================\n",
       "Layer (type (var_name))                       Input Shape          Output Shape         Param #              Trainable\n",
       "=============================================================================================================================\n",
       "SuperResolutionModel (SuperResolutionModel)   [8, 1, 320, 320]     [8, 1, 320, 320]     --                   Partial\n",
       "├─UNet (model)                                [8, 1, 320, 320]     [8, 1, 320, 320]     --                   Partial\n",
       "│    └─Sequential (e1)                        [8, 1, 320, 320]     [8, 64, 320, 320]    --                   False\n",
       "│    │    └─ConvBlock (0)                     [8, 1, 320, 320]     [8, 64, 320, 320]    (768)                False\n",
       "│    │    └─ConvBlock (1)                     [8, 64, 320, 320]    [8, 64, 320, 320]    (37,056)             False\n",
       "│    └─MaxPool2d (maxpool1)                   [8, 64, 320, 320]    [8, 64, 160, 160]    --                   --\n",
       "│    └─Sequential (e2)                        [8, 64, 160, 160]    [8, 128, 160, 160]   --                   True\n",
       "│    │    └─ConvBlock (0)                     [8, 64, 160, 160]    [8, 128, 160, 160]   74,112               True\n",
       "│    │    └─ConvBlock (1)                     [8, 128, 160, 160]   [8, 128, 160, 160]   147,840              True\n",
       "│    └─MaxPool2d (maxpool2)                   [8, 128, 160, 160]   [8, 128, 80, 80]     --                   --\n",
       "│    └─Sequential (e3)                        [8, 128, 80, 80]     [8, 256, 80, 80]     --                   True\n",
       "│    │    └─ConvBlock (0)                     [8, 128, 80, 80]     [8, 256, 80, 80]     295,680              True\n",
       "│    │    └─ConvBlock (1)                     [8, 256, 80, 80]     [8, 256, 80, 80]     590,592              True\n",
       "│    └─MaxPool2d (maxpool3)                   [8, 256, 80, 80]     [8, 256, 40, 40]     --                   --\n",
       "│    └─Sequential (e4)                        [8, 256, 40, 40]     [8, 512, 40, 40]     --                   True\n",
       "│    │    └─ConvBlock (0)                     [8, 256, 40, 40]     [8, 512, 40, 40]     1,181,184            True\n",
       "│    │    └─ConvBlock (1)                     [8, 512, 40, 40]     [8, 512, 40, 40]     2,360,832            True\n",
       "│    └─MaxPool2d (maxpool4)                   [8, 512, 40, 40]     [8, 512, 20, 20]     --                   --\n",
       "│    └─DeconvBlock (d1)                       [8, 512, 20, 20]     [8, 512, 40, 40]     --                   True\n",
       "│    │    └─ConvTranspose2d (deconv)          [8, 512, 20, 20]     [8, 512, 40, 40]     1,049,088            True\n",
       "│    └─Sequential (c1)                        [8, 1024, 40, 40]    [8, 512, 40, 40]     --                   True\n",
       "│    │    └─ConvBlock (0)                     [8, 1024, 40, 40]    [8, 512, 40, 40]     4,720,128            True\n",
       "│    │    └─ConvBlock (1)                     [8, 512, 40, 40]     [8, 512, 40, 40]     2,360,832            True\n",
       "│    └─DeconvBlock (d2)                       [8, 512, 40, 40]     [8, 256, 80, 80]     --                   True\n",
       "│    │    └─ConvTranspose2d (deconv)          [8, 512, 40, 40]     [8, 256, 80, 80]     524,544              True\n",
       "│    └─Sequential (c2)                        [8, 512, 80, 80]     [8, 256, 80, 80]     --                   True\n",
       "│    │    └─ConvBlock (0)                     [8, 512, 80, 80]     [8, 256, 80, 80]     1,180,416            True\n",
       "│    │    └─ConvBlock (1)                     [8, 256, 80, 80]     [8, 256, 80, 80]     590,592              True\n",
       "│    └─DeconvBlock (d3)                       [8, 256, 80, 80]     [8, 128, 160, 160]   --                   True\n",
       "│    │    └─ConvTranspose2d (deconv)          [8, 256, 80, 80]     [8, 128, 160, 160]   131,200              True\n",
       "│    └─Sequential (c3)                        [8, 256, 160, 160]   [8, 128, 160, 160]   --                   True\n",
       "│    │    └─ConvBlock (0)                     [8, 256, 160, 160]   [8, 128, 160, 160]   295,296              True\n",
       "│    │    └─ConvBlock (1)                     [8, 128, 160, 160]   [8, 128, 160, 160]   147,840              True\n",
       "│    └─DeconvBlock (d4)                       [8, 128, 160, 160]   [8, 64, 320, 320]    --                   True\n",
       "│    │    └─ConvTranspose2d (deconv)          [8, 128, 160, 160]   [8, 64, 320, 320]    32,832               True\n",
       "│    └─Sequential (c4)                        [8, 128, 320, 320]   [8, 64, 320, 320]    --                   True\n",
       "│    │    └─ConvBlock (0)                     [8, 128, 320, 320]   [8, 64, 320, 320]    73,920               True\n",
       "│    │    └─ConvBlock (1)                     [8, 64, 320, 320]    [8, 64, 320, 320]    37,056               True\n",
       "│    └─Conv2d (output)                        [8, 64, 320, 320]    [8, 1, 320, 320]     65                   True\n",
       "=============================================================================================================================\n",
       "Total params: 15,831,873\n",
       "Trainable params: 15,794,049\n",
       "Non-trainable params: 37,824\n",
       "Total mult-adds (Units.GIGABYTES): 623.45\n",
       "=============================================================================================================================\n",
       "Input size (MB): 3.28\n",
       "Forward/backward pass size (MB): 7084.44\n",
       "Params size (MB): 63.33\n",
       "Estimated Total Size (MB): 7151.05\n",
       "============================================================================================================================="
      ]
     },
     "execution_count": 13,
     "metadata": {},
     "output_type": "execute_result"
    }
   ],
   "execution_count": 13
  },
  {
   "metadata": {},
   "cell_type": "code",
   "outputs": [],
   "execution_count": null,
   "source": "",
   "id": "b3faa78ab7b65ec3"
  }
 ],
 "metadata": {
  "kernelspec": {
   "display_name": "Python 3",
   "language": "python",
   "name": "python3"
  },
  "language_info": {
   "codemirror_mode": {
    "name": "ipython",
    "version": 2
   },
   "file_extension": ".py",
   "mimetype": "text/x-python",
   "name": "python",
   "nbconvert_exporter": "python",
   "pygments_lexer": "ipython2",
   "version": "2.7.6"
  }
 },
 "nbformat": 4,
 "nbformat_minor": 5
}
